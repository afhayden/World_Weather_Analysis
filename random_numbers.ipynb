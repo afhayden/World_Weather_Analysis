{
 "cells": [
  {
   "cell_type": "code",
   "execution_count": 46,
   "id": "85eecf24-baaf-4adc-ad26-1d297c8da9b6",
   "metadata": {},
   "outputs": [],
   "source": [
    "# Import the random module.\n",
    "import random\n",
    "import numpy as np\n",
    "import timeit\n",
    "import pandas as pd\n",
    "import matplotlib.pyplot as plt"
   ]
  },
  {
   "cell_type": "code",
   "execution_count": 30,
   "id": "a1fa98a8-523a-4225-8f18-914224b2b619",
   "metadata": {},
   "outputs": [
    {
     "data": {
      "text/plain": [
       "33"
      ]
     },
     "execution_count": 30,
     "metadata": {},
     "output_type": "execute_result"
    }
   ],
   "source": [
    "random.randint(-90, 90)"
   ]
  },
  {
   "cell_type": "code",
   "execution_count": 31,
   "id": "f433e7f9-9506-4647-abc9-38685abd4c6f",
   "metadata": {},
   "outputs": [
    {
     "data": {
      "text/plain": [
       "0.8645002814777644"
      ]
     },
     "execution_count": 31,
     "metadata": {},
     "output_type": "execute_result"
    }
   ],
   "source": [
    "random.random()"
   ]
  },
  {
   "cell_type": "code",
   "execution_count": 32,
   "id": "3314d279-1ef8-4829-83fd-01b4bf6d6b98",
   "metadata": {},
   "outputs": [
    {
     "name": "stdout",
     "output_type": "stream",
     "text": [
      "60\n",
      "0.614863882694311\n",
      "60.61486388269431\n"
     ]
    }
   ],
   "source": [
    "randint_var = random.randint(-90, 89)\n",
    "print (randint_var)\n",
    "random_var = random.random()\n",
    "print (random_var)\n",
    "random_number = randint_var + random_var\n",
    "print(random_number)"
   ]
  },
  {
   "cell_type": "code",
   "execution_count": 33,
   "id": "369b8d9b-b573-4e55-8b45-198a5bd66f3d",
   "metadata": {},
   "outputs": [],
   "source": [
    "x = 1\n",
    "latitudes = []\n",
    "while x < 11:\n",
    "    random_lat = random.randint(-90, 89) + random.random()\n",
    "    latitudes.append(random_lat)\n",
    "    x += 1"
   ]
  },
  {
   "cell_type": "code",
   "execution_count": 34,
   "id": "c3f38cea-aea3-4411-bb39-f74fab146d5f",
   "metadata": {},
   "outputs": [
    {
     "data": {
      "text/plain": [
       "[-64.87725866291521,\n",
       " 75.27748116827242,\n",
       " 30.601028610838497,\n",
       " 4.942073520892037,\n",
       " -0.823281271277097,\n",
       " -27.366863606854295,\n",
       " -43.702852102821744,\n",
       " -53.63878302118167,\n",
       " 29.36631418821682,\n",
       " 68.7461572804085]"
      ]
     },
     "execution_count": 34,
     "metadata": {},
     "output_type": "execute_result"
    }
   ],
   "source": [
    "latitudes"
   ]
  },
  {
   "cell_type": "code",
   "execution_count": 35,
   "id": "f5be268f-4f8e-48fb-98bd-89b2a5b30470",
   "metadata": {},
   "outputs": [
    {
     "data": {
      "text/plain": [
       "28"
      ]
     },
     "execution_count": 35,
     "metadata": {},
     "output_type": "execute_result"
    }
   ],
   "source": [
    "random.randrange(-90, 90, step=1)"
   ]
  },
  {
   "cell_type": "code",
   "execution_count": 36,
   "id": "24556f56-d185-430d-97c7-97111df7d595",
   "metadata": {},
   "outputs": [
    {
     "data": {
      "text/plain": [
       "45"
      ]
     },
     "execution_count": 36,
     "metadata": {},
     "output_type": "execute_result"
    }
   ],
   "source": [
    "random.randrange(-90, 90, step=3)"
   ]
  },
  {
   "cell_type": "code",
   "execution_count": 37,
   "id": "6ed1f49d-04b7-4e6d-aabe-6785c7c67947",
   "metadata": {},
   "outputs": [
    {
     "data": {
      "text/plain": [
       "48"
      ]
     },
     "execution_count": 37,
     "metadata": {},
     "output_type": "execute_result"
    }
   ],
   "source": [
    "random.randrange(-90, 90, step=3)"
   ]
  },
  {
   "cell_type": "code",
   "execution_count": 38,
   "id": "8e182474-aaeb-4089-9e44-53edabb76baa",
   "metadata": {},
   "outputs": [
    {
     "data": {
      "text/plain": [
       "-7.617416480230503"
      ]
     },
     "execution_count": 38,
     "metadata": {},
     "output_type": "execute_result"
    }
   ],
   "source": [
    "random.uniform(-90, 90)"
   ]
  },
  {
   "cell_type": "code",
   "execution_count": 39,
   "id": "ee47d3ac-a1ce-465d-93db-3c6a8d66e658",
   "metadata": {},
   "outputs": [
    {
     "data": {
      "text/plain": [
       "71.83709934101083"
      ]
     },
     "execution_count": 39,
     "metadata": {},
     "output_type": "execute_result"
    }
   ],
   "source": [
    "np.random.uniform(-90.000, 90.000)"
   ]
  },
  {
   "cell_type": "code",
   "execution_count": 40,
   "id": "f88eb314-42ec-4773-892d-b80c36d448b7",
   "metadata": {},
   "outputs": [
    {
     "data": {
      "text/plain": [
       "array([ -0.65410123, -65.95949157, -11.10256999, -68.32623913,\n",
       "        52.72378613, -52.46149408,   3.21547262, -53.56664992,\n",
       "       -78.92907006,   7.19722287, -50.03129814, -68.76908664,\n",
       "       -76.52982145, -40.11658022, -26.96100902, -79.75137986,\n",
       "        39.08349012, -16.03558865,  44.89937582,  34.68736069,\n",
       "       -28.55608075,   8.46503818,  59.6948719 , -76.31841681,\n",
       "        23.19924116,  26.05892125, -40.53695306, -68.18459373,\n",
       "       -62.25843313,  -3.9975502 , -46.72961244, -89.87719468,\n",
       "        17.52163407,  65.70048562,  23.85105401, -53.21803345,\n",
       "       -88.06618373,  46.51437536,  12.33690802, -12.97041541,\n",
       "       -50.70529133,  60.39035415, -13.23957339, -68.01834236,\n",
       "        -3.97736888, -20.22206163,  36.30808133,  49.97388092,\n",
       "        77.9623241 ,  32.68544289])"
      ]
     },
     "execution_count": 40,
     "metadata": {},
     "output_type": "execute_result"
    }
   ],
   "source": [
    "np.random.uniform(-90.000, 90.000, size=50)"
   ]
  },
  {
   "cell_type": "code",
   "execution_count": 41,
   "id": "791c99e6-34e7-496a-9bb4-127b8fbb8318",
   "metadata": {},
   "outputs": [
    {
     "name": "stdout",
     "output_type": "stream",
     "text": [
      "13.9 µs ± 594 ns per loop (mean ± std. dev. of 7 runs, 100,000 loops each)\n"
     ]
    }
   ],
   "source": [
    "%timeit np.random.uniform(-90.000, 90.000, size=1500)"
   ]
  },
  {
   "cell_type": "code",
   "execution_count": 42,
   "id": "c48e2dfe-a5c5-4d59-b967-bde47f573fdf",
   "metadata": {},
   "outputs": [
    {
     "name": "stdout",
     "output_type": "stream",
     "text": [
      "1.37 ms ± 60.4 µs per loop (mean ± std. dev. of 7 runs, 1,000 loops each)\n"
     ]
    }
   ],
   "source": [
    "def latitudes(size):\n",
    "    latitudes = []\n",
    "    x = 0\n",
    "    while x < (size):\n",
    "        random_lat = random.randint(-90, 90) + random.random()\n",
    "        latitudes.append(random_lat)\n",
    "        x += 1\n",
    "    return latitudes\n",
    "# Call the function with 1500.\n",
    "%timeit latitudes(1500)"
   ]
  },
  {
   "cell_type": "code",
   "execution_count": 44,
   "id": "3ce26866-30ab-4115-8ffe-1d2fb190eada",
   "metadata": {},
   "outputs": [
    {
     "name": "stdout",
     "output_type": "stream",
     "text": [
      "1.38 ms ± 14.3 µs per loop (mean ± std. dev. of 7 runs, 1,000 loops each)\n"
     ]
    }
   ],
   "source": [
    "def longitudes(size):\n",
    "    longitudes = []\n",
    "    x = 0\n",
    "    while x < (size):\n",
    "        random_long = random.randint(-180, 180) + random.random()\n",
    "        longitudes.append(random_long)\n",
    "        x += 1\n",
    "    return longitudes\n",
    "# Call the function with 1500.\n",
    "%timeit longitudes(1500)"
   ]
  },
  {
   "cell_type": "code",
   "execution_count": 47,
   "id": "bacf172d-c4f0-40f0-a58e-f9d13b5f2df4",
   "metadata": {},
   "outputs": [
    {
     "data": {
      "text/plain": [
       "<zip at 0x2053f9b2c40>"
      ]
     },
     "execution_count": 47,
     "metadata": {},
     "output_type": "execute_result"
    }
   ],
   "source": [
    "# Create a set of random latitude and longitude combinations.\n",
    "lats = np.random.uniform(low=-90.000, high=90.000, size=1500)\n",
    "lngs = np.random.uniform(low=-180.000, high=180.000, size=1500)\n",
    "lat_lngs = zip(lats, lngs)\n",
    "lat_lngs"
   ]
  },
  {
   "cell_type": "code",
   "execution_count": null,
   "id": "65f56498-2d88-4b09-a3ad-a02b933354fa",
   "metadata": {},
   "outputs": [],
   "source": []
  }
 ],
 "metadata": {
  "kernelspec": {
   "display_name": "PythonData",
   "language": "python",
   "name": "pythondata"
  },
  "language_info": {
   "codemirror_mode": {
    "name": "ipython",
    "version": 3
   },
   "file_extension": ".py",
   "mimetype": "text/x-python",
   "name": "python",
   "nbconvert_exporter": "python",
   "pygments_lexer": "ipython3",
   "version": "3.9.12"
  }
 },
 "nbformat": 4,
 "nbformat_minor": 5
}
