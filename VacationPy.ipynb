{
 "cells": [
  {
   "cell_type": "code",
   "execution_count": 44,
   "id": "b5d52ce8-265b-4185-8f17-c224a0c6d664",
   "metadata": {},
   "outputs": [],
   "source": [
    "# Import the dependencies.\n",
    "import pandas as pd\n",
    "import gmaps\n",
    "import requests\n",
    "# Import the API key.\n",
    "from config import g_key"
   ]
  },
  {
   "cell_type": "code",
   "execution_count": 45,
   "id": "662cc631-9914-4ec5-8241-ebcaac927992",
   "metadata": {},
   "outputs": [
    {
     "data": {
      "text/html": [
       "<div>\n",
       "<style scoped>\n",
       "    .dataframe tbody tr th:only-of-type {\n",
       "        vertical-align: middle;\n",
       "    }\n",
       "\n",
       "    .dataframe tbody tr th {\n",
       "        vertical-align: top;\n",
       "    }\n",
       "\n",
       "    .dataframe thead th {\n",
       "        text-align: right;\n",
       "    }\n",
       "</style>\n",
       "<table border=\"1\" class=\"dataframe\">\n",
       "  <thead>\n",
       "    <tr style=\"text-align: right;\">\n",
       "      <th></th>\n",
       "      <th>City_ID</th>\n",
       "      <th>City</th>\n",
       "      <th>Country</th>\n",
       "      <th>Date</th>\n",
       "      <th>Lat</th>\n",
       "      <th>Lng</th>\n",
       "      <th>Max Temp</th>\n",
       "      <th>Humidity</th>\n",
       "      <th>Cloudiness</th>\n",
       "      <th>Wind Speed</th>\n",
       "    </tr>\n",
       "  </thead>\n",
       "  <tbody>\n",
       "    <tr>\n",
       "      <th>0</th>\n",
       "      <td>0</td>\n",
       "      <td>Hasaki</td>\n",
       "      <td>JP</td>\n",
       "      <td>2022-07-20 15:53:30</td>\n",
       "      <td>35.7333</td>\n",
       "      <td>140.8333</td>\n",
       "      <td>77.40</td>\n",
       "      <td>81</td>\n",
       "      <td>99</td>\n",
       "      <td>6.24</td>\n",
       "    </tr>\n",
       "    <tr>\n",
       "      <th>1</th>\n",
       "      <td>1</td>\n",
       "      <td>Avarua</td>\n",
       "      <td>CK</td>\n",
       "      <td>2022-07-20 15:53:31</td>\n",
       "      <td>-21.2078</td>\n",
       "      <td>-159.7750</td>\n",
       "      <td>73.45</td>\n",
       "      <td>64</td>\n",
       "      <td>40</td>\n",
       "      <td>13.80</td>\n",
       "    </tr>\n",
       "    <tr>\n",
       "      <th>2</th>\n",
       "      <td>2</td>\n",
       "      <td>Hirara</td>\n",
       "      <td>JP</td>\n",
       "      <td>2022-07-20 15:53:31</td>\n",
       "      <td>24.8000</td>\n",
       "      <td>125.2833</td>\n",
       "      <td>84.85</td>\n",
       "      <td>83</td>\n",
       "      <td>5</td>\n",
       "      <td>12.10</td>\n",
       "    </tr>\n",
       "    <tr>\n",
       "      <th>3</th>\n",
       "      <td>3</td>\n",
       "      <td>Punta Arenas</td>\n",
       "      <td>CL</td>\n",
       "      <td>2022-07-20 15:43:14</td>\n",
       "      <td>-53.1500</td>\n",
       "      <td>-70.9167</td>\n",
       "      <td>35.62</td>\n",
       "      <td>86</td>\n",
       "      <td>75</td>\n",
       "      <td>29.93</td>\n",
       "    </tr>\n",
       "    <tr>\n",
       "      <th>4</th>\n",
       "      <td>4</td>\n",
       "      <td>Llangefni</td>\n",
       "      <td>GB</td>\n",
       "      <td>2022-07-20 15:53:32</td>\n",
       "      <td>53.2556</td>\n",
       "      <td>-4.3106</td>\n",
       "      <td>66.11</td>\n",
       "      <td>63</td>\n",
       "      <td>20</td>\n",
       "      <td>12.66</td>\n",
       "    </tr>\n",
       "  </tbody>\n",
       "</table>\n",
       "</div>"
      ],
      "text/plain": [
       "   City_ID          City Country                 Date      Lat       Lng  \\\n",
       "0        0        Hasaki      JP  2022-07-20 15:53:30  35.7333  140.8333   \n",
       "1        1        Avarua      CK  2022-07-20 15:53:31 -21.2078 -159.7750   \n",
       "2        2        Hirara      JP  2022-07-20 15:53:31  24.8000  125.2833   \n",
       "3        3  Punta Arenas      CL  2022-07-20 15:43:14 -53.1500  -70.9167   \n",
       "4        4     Llangefni      GB  2022-07-20 15:53:32  53.2556   -4.3106   \n",
       "\n",
       "   Max Temp  Humidity  Cloudiness  Wind Speed  \n",
       "0     77.40        81          99        6.24  \n",
       "1     73.45        64          40       13.80  \n",
       "2     84.85        83           5       12.10  \n",
       "3     35.62        86          75       29.93  \n",
       "4     66.11        63          20       12.66  "
      ]
     },
     "execution_count": 45,
     "metadata": {},
     "output_type": "execute_result"
    }
   ],
   "source": [
    "# Store the CSV you saved created in part one into a DataFrame.\n",
    "city_data_df = pd.read_csv(\"weather_data/cities.csv\")\n",
    "city_data_df.head()"
   ]
  },
  {
   "cell_type": "code",
   "execution_count": 46,
   "id": "a260131c-4673-4055-9962-06482bcbd1d6",
   "metadata": {},
   "outputs": [
    {
     "data": {
      "text/plain": [
       "City_ID         int64\n",
       "City           object\n",
       "Country        object\n",
       "Date           object\n",
       "Lat           float64\n",
       "Lng           float64\n",
       "Max Temp      float64\n",
       "Humidity        int64\n",
       "Cloudiness      int64\n",
       "Wind Speed    float64\n",
       "dtype: object"
      ]
     },
     "execution_count": 46,
     "metadata": {},
     "output_type": "execute_result"
    }
   ],
   "source": [
    "city_data_df.dtypes"
   ]
  },
  {
   "cell_type": "code",
   "execution_count": 47,
   "id": "ecd97f8c-c652-4bb6-aa6e-c87d923a4ca7",
   "metadata": {},
   "outputs": [],
   "source": [
    "# Configure gmaps to use your Google API key.\n",
    "gmaps.configure(api_key=g_key)"
   ]
  },
  {
   "cell_type": "code",
   "execution_count": 48,
   "id": "b3162a87",
   "metadata": {},
   "outputs": [],
   "source": [
    "# Get the maximum temperature.\n",
    "# max_temp = city_data_df[\"Max Temp\"]\n",
    "# temps = []\n",
    "# for temp in max_temp:\n",
    "#     temps.append(max(temp, 0))"
   ]
  },
  {
   "cell_type": "code",
   "execution_count": 52,
   "id": "06db9e0d-f742-4dca-b858-adb0da3d082d",
   "metadata": {},
   "outputs": [
    {
     "data": {
      "application/vnd.jupyter.widget-view+json": {
       "model_id": "34063496bb08401fbb32e945d2a67a4b",
       "version_major": 2,
       "version_minor": 0
      },
      "text/plain": [
       "Figure(layout=FigureLayout(height='420px'))"
      ]
     },
     "metadata": {},
     "output_type": "display_data"
    }
   ],
   "source": [
    "# Heatmap of temperature\n",
    "# Get the latitude and longitude.\n",
    "locations = city_data_df[[\"Lat\", \"Lng\"]]\n",
    "# Get the maximum temperature.\n",
    "max_temp = city_data_df[\"Max Temp\"]\n",
    "# Assign the figure variable.\n",
    "fig = gmaps.figure(center=(30.0, 31.0), zoom_level=1.5)\n",
    "# Assign the heatmap variable.\n",
    "#heat_layer = gmaps.heatmap_layer(locations, weights=temps)\n",
    "heat_layer = gmaps.heatmap_layer(locations, weights=[max(temp, 0) for temp in city_data_df[\"Max Temp\"]], \n",
    "                                 dissipating=False, max_intensity=300, point_radius=4)\n",
    "# Add the heatmap layer.\n",
    "fig.add_layer(heat_layer)\n",
    "# Call the figure to plot the data.\n",
    "fig"
   ]
  },
  {
   "cell_type": "code",
   "execution_count": 54,
   "id": "8b0222b4-7b2f-441c-9c17-7a5d53ad1fd0",
   "metadata": {},
   "outputs": [
    {
     "data": {
      "application/vnd.jupyter.widget-view+json": {
       "model_id": "81150799dfa746038e27eca21edc10a6",
       "version_major": 2,
       "version_minor": 0
      },
      "text/plain": [
       "Figure(layout=FigureLayout(height='420px'))"
      ]
     },
     "metadata": {},
     "output_type": "display_data"
    }
   ],
   "source": [
    "# Heatmap of percent humidity\n",
    "locations = city_data_df[[\"Lat\", \"Lng\"]]\n",
    "humidity = city_data_df[\"Humidity\"]\n",
    "fig = gmaps.figure(center=(30.0, 31.0), zoom_level=1.5)\n",
    "heat_layer = gmaps.heatmap_layer(locations, weights=humidity, dissipating=False, max_intensity=300, point_radius=4)\n",
    "\n",
    "fig.add_layer(heat_layer)\n",
    "# Call the figure to plot the data.\n",
    "fig"
   ]
  },
  {
   "cell_type": "code",
   "execution_count": 57,
   "id": "6c5b4383-ff86-40e1-be08-ebfdb79d0954",
   "metadata": {},
   "outputs": [
    {
     "data": {
      "application/vnd.jupyter.widget-view+json": {
       "model_id": "5de0ba01787f481ea8e704f7ed1f2e94",
       "version_major": 2,
       "version_minor": 0
      },
      "text/plain": [
       "Figure(layout=FigureLayout(height='420px'))"
      ]
     },
     "metadata": {},
     "output_type": "display_data"
    }
   ],
   "source": [
    "# Heatmap of percent Cloudiness\n",
    "locations = city_data_df[[\"Lat\", \"Lng\"]]\n",
    "clouds = city_data_df[\"Cloudiness\"]\n",
    "fig = gmaps.figure(center=(30.0, 31.0), zoom_level=1.5)\n",
    "heat_layer = gmaps.heatmap_layer(locations, weights=clouds, dissipating=False, max_intensity=300, point_radius=4)\n",
    "\n",
    "fig.add_layer(heat_layer)\n",
    "# Call the figure to plot the data.\n",
    "fig"
   ]
  },
  {
   "cell_type": "code",
   "execution_count": 59,
   "id": "c00d1220",
   "metadata": {},
   "outputs": [
    {
     "data": {
      "application/vnd.jupyter.widget-view+json": {
       "model_id": "fccbb63650e1428baba892708ab6b564",
       "version_major": 2,
       "version_minor": 0
      },
      "text/plain": [
       "Figure(layout=FigureLayout(height='420px'))"
      ]
     },
     "metadata": {},
     "output_type": "display_data"
    }
   ],
   "source": [
    "# Heatmap of percent Windspeed\n",
    "locations = city_data_df[[\"Lat\", \"Lng\"]]\n",
    "winds = city_data_df[\"Wind Speed\"]\n",
    "fig = gmaps.figure(center=(30.0, 31.0), zoom_level=1.5)\n",
    "heat_layer = gmaps.heatmap_layer(locations, weights=winds, dissipating=False, max_intensity=300, point_radius=4)\n",
    "\n",
    "fig.add_layer(heat_layer)\n",
    "# Call the figure to plot the data.\n",
    "fig"
   ]
  },
  {
   "cell_type": "code",
   "execution_count": 60,
   "id": "16258f09",
   "metadata": {},
   "outputs": [
    {
     "name": "stdout",
     "output_type": "stream",
     "text": [
      "What is the minimum temperature you would like for your trip? 75\n",
      "What is the maximum temperature you would like for your trip? 90\n"
     ]
    }
   ],
   "source": [
    "# Ask the customer to add a minimum and maximum temperature value.\n",
    "min_temp = float(input(\"What is the minimum temperature you would like for your trip? \"))\n",
    "max_temp = float(input(\"What is the maximum temperature you would like for your trip? \"))"
   ]
  },
  {
   "cell_type": "code",
   "execution_count": 61,
   "id": "8361d04c",
   "metadata": {},
   "outputs": [
    {
     "data": {
      "text/html": [
       "<div>\n",
       "<style scoped>\n",
       "    .dataframe tbody tr th:only-of-type {\n",
       "        vertical-align: middle;\n",
       "    }\n",
       "\n",
       "    .dataframe tbody tr th {\n",
       "        vertical-align: top;\n",
       "    }\n",
       "\n",
       "    .dataframe thead th {\n",
       "        text-align: right;\n",
       "    }\n",
       "</style>\n",
       "<table border=\"1\" class=\"dataframe\">\n",
       "  <thead>\n",
       "    <tr style=\"text-align: right;\">\n",
       "      <th></th>\n",
       "      <th>City_ID</th>\n",
       "      <th>City</th>\n",
       "      <th>Country</th>\n",
       "      <th>Date</th>\n",
       "      <th>Lat</th>\n",
       "      <th>Lng</th>\n",
       "      <th>Max Temp</th>\n",
       "      <th>Humidity</th>\n",
       "      <th>Cloudiness</th>\n",
       "      <th>Wind Speed</th>\n",
       "    </tr>\n",
       "  </thead>\n",
       "  <tbody>\n",
       "    <tr>\n",
       "      <th>0</th>\n",
       "      <td>0</td>\n",
       "      <td>Hasaki</td>\n",
       "      <td>JP</td>\n",
       "      <td>2022-07-20 15:53:30</td>\n",
       "      <td>35.7333</td>\n",
       "      <td>140.8333</td>\n",
       "      <td>77.40</td>\n",
       "      <td>81</td>\n",
       "      <td>99</td>\n",
       "      <td>6.24</td>\n",
       "    </tr>\n",
       "    <tr>\n",
       "      <th>2</th>\n",
       "      <td>2</td>\n",
       "      <td>Hirara</td>\n",
       "      <td>JP</td>\n",
       "      <td>2022-07-20 15:53:31</td>\n",
       "      <td>24.8000</td>\n",
       "      <td>125.2833</td>\n",
       "      <td>84.85</td>\n",
       "      <td>83</td>\n",
       "      <td>5</td>\n",
       "      <td>12.10</td>\n",
       "    </tr>\n",
       "    <tr>\n",
       "      <th>8</th>\n",
       "      <td>8</td>\n",
       "      <td>Saint Anthony</td>\n",
       "      <td>US</td>\n",
       "      <td>2022-07-20 15:53:32</td>\n",
       "      <td>45.0205</td>\n",
       "      <td>-93.2180</td>\n",
       "      <td>82.02</td>\n",
       "      <td>58</td>\n",
       "      <td>40</td>\n",
       "      <td>20.71</td>\n",
       "    </tr>\n",
       "    <tr>\n",
       "      <th>9</th>\n",
       "      <td>9</td>\n",
       "      <td>Albany</td>\n",
       "      <td>US</td>\n",
       "      <td>2022-07-20 15:40:36</td>\n",
       "      <td>42.6001</td>\n",
       "      <td>-73.9662</td>\n",
       "      <td>89.78</td>\n",
       "      <td>61</td>\n",
       "      <td>7</td>\n",
       "      <td>5.59</td>\n",
       "    </tr>\n",
       "    <tr>\n",
       "      <th>10</th>\n",
       "      <td>10</td>\n",
       "      <td>Kapaa</td>\n",
       "      <td>US</td>\n",
       "      <td>2022-07-20 15:46:18</td>\n",
       "      <td>22.0752</td>\n",
       "      <td>-159.3190</td>\n",
       "      <td>75.52</td>\n",
       "      <td>88</td>\n",
       "      <td>75</td>\n",
       "      <td>11.50</td>\n",
       "    </tr>\n",
       "    <tr>\n",
       "      <th>13</th>\n",
       "      <td>13</td>\n",
       "      <td>Amalapuram</td>\n",
       "      <td>IN</td>\n",
       "      <td>2022-07-20 15:53:33</td>\n",
       "      <td>16.5833</td>\n",
       "      <td>82.0167</td>\n",
       "      <td>82.11</td>\n",
       "      <td>82</td>\n",
       "      <td>52</td>\n",
       "      <td>3.02</td>\n",
       "    </tr>\n",
       "    <tr>\n",
       "      <th>14</th>\n",
       "      <td>14</td>\n",
       "      <td>Cayenne</td>\n",
       "      <td>GF</td>\n",
       "      <td>2022-07-20 15:53:33</td>\n",
       "      <td>4.9333</td>\n",
       "      <td>-52.3333</td>\n",
       "      <td>87.84</td>\n",
       "      <td>20</td>\n",
       "      <td>40</td>\n",
       "      <td>5.75</td>\n",
       "    </tr>\n",
       "    <tr>\n",
       "      <th>15</th>\n",
       "      <td>15</td>\n",
       "      <td>Berbera</td>\n",
       "      <td>SO</td>\n",
       "      <td>2022-07-20 15:53:34</td>\n",
       "      <td>10.4396</td>\n",
       "      <td>45.0143</td>\n",
       "      <td>87.49</td>\n",
       "      <td>54</td>\n",
       "      <td>86</td>\n",
       "      <td>11.41</td>\n",
       "    </tr>\n",
       "    <tr>\n",
       "      <th>16</th>\n",
       "      <td>16</td>\n",
       "      <td>La Peca</td>\n",
       "      <td>PE</td>\n",
       "      <td>2022-07-20 15:53:34</td>\n",
       "      <td>-5.6111</td>\n",
       "      <td>-78.4350</td>\n",
       "      <td>75.13</td>\n",
       "      <td>67</td>\n",
       "      <td>54</td>\n",
       "      <td>3.58</td>\n",
       "    </tr>\n",
       "    <tr>\n",
       "      <th>17</th>\n",
       "      <td>17</td>\n",
       "      <td>Buala</td>\n",
       "      <td>SB</td>\n",
       "      <td>2022-07-20 15:53:35</td>\n",
       "      <td>-8.1450</td>\n",
       "      <td>159.5921</td>\n",
       "      <td>78.67</td>\n",
       "      <td>77</td>\n",
       "      <td>48</td>\n",
       "      <td>6.49</td>\n",
       "    </tr>\n",
       "  </tbody>\n",
       "</table>\n",
       "</div>"
      ],
      "text/plain": [
       "    City_ID           City Country                 Date      Lat       Lng  \\\n",
       "0         0         Hasaki      JP  2022-07-20 15:53:30  35.7333  140.8333   \n",
       "2         2         Hirara      JP  2022-07-20 15:53:31  24.8000  125.2833   \n",
       "8         8  Saint Anthony      US  2022-07-20 15:53:32  45.0205  -93.2180   \n",
       "9         9         Albany      US  2022-07-20 15:40:36  42.6001  -73.9662   \n",
       "10       10          Kapaa      US  2022-07-20 15:46:18  22.0752 -159.3190   \n",
       "13       13     Amalapuram      IN  2022-07-20 15:53:33  16.5833   82.0167   \n",
       "14       14        Cayenne      GF  2022-07-20 15:53:33   4.9333  -52.3333   \n",
       "15       15        Berbera      SO  2022-07-20 15:53:34  10.4396   45.0143   \n",
       "16       16        La Peca      PE  2022-07-20 15:53:34  -5.6111  -78.4350   \n",
       "17       17          Buala      SB  2022-07-20 15:53:35  -8.1450  159.5921   \n",
       "\n",
       "    Max Temp  Humidity  Cloudiness  Wind Speed  \n",
       "0      77.40        81          99        6.24  \n",
       "2      84.85        83           5       12.10  \n",
       "8      82.02        58          40       20.71  \n",
       "9      89.78        61           7        5.59  \n",
       "10     75.52        88          75       11.50  \n",
       "13     82.11        82          52        3.02  \n",
       "14     87.84        20          40        5.75  \n",
       "15     87.49        54          86       11.41  \n",
       "16     75.13        67          54        3.58  \n",
       "17     78.67        77          48        6.49  "
      ]
     },
     "execution_count": 61,
     "metadata": {},
     "output_type": "execute_result"
    }
   ],
   "source": [
    "# Filter the dataset to find the cities that fit the criteria.\n",
    "preferred_cities_df = city_data_df.loc[(city_data_df[\"Max Temp\"] <= max_temp) & \\\n",
    "                                       (city_data_df[\"Max Temp\"] >= min_temp)]\n",
    "preferred_cities_df.head(10)"
   ]
  },
  {
   "cell_type": "code",
   "execution_count": 62,
   "id": "d9255658",
   "metadata": {},
   "outputs": [
    {
     "data": {
      "text/plain": [
       "City_ID       0\n",
       "City          0\n",
       "Country       0\n",
       "Date          0\n",
       "Lat           0\n",
       "Lng           0\n",
       "Max Temp      0\n",
       "Humidity      0\n",
       "Cloudiness    0\n",
       "Wind Speed    0\n",
       "dtype: int64"
      ]
     },
     "execution_count": 62,
     "metadata": {},
     "output_type": "execute_result"
    }
   ],
   "source": [
    "preferred_cities_df.isnull().sum()"
   ]
  },
  {
   "cell_type": "code",
   "execution_count": 64,
   "id": "e0a3aa22",
   "metadata": {},
   "outputs": [
    {
     "data": {
      "text/plain": [
       "City_ID       253\n",
       "City          253\n",
       "Country       253\n",
       "Date          253\n",
       "Lat           253\n",
       "Lng           253\n",
       "Max Temp      253\n",
       "Humidity      253\n",
       "Cloudiness    253\n",
       "Wind Speed    253\n",
       "dtype: int64"
      ]
     },
     "execution_count": 64,
     "metadata": {},
     "output_type": "execute_result"
    }
   ],
   "source": [
    "preferred_cities_df.notnull().sum()"
   ]
  },
  {
   "cell_type": "code",
   "execution_count": 68,
   "id": "981615a4",
   "metadata": {},
   "outputs": [
    {
     "data": {
      "text/plain": [
       "City_ID       253\n",
       "City          253\n",
       "Country       253\n",
       "Date          253\n",
       "Lat           253\n",
       "Lng           253\n",
       "Max Temp      253\n",
       "Humidity      253\n",
       "Cloudiness    253\n",
       "Wind Speed    253\n",
       "dtype: int64"
      ]
     },
     "execution_count": 68,
     "metadata": {},
     "output_type": "execute_result"
    }
   ],
   "source": [
    "preferred_cities_df.count()"
   ]
  },
  {
   "cell_type": "code",
   "execution_count": 70,
   "id": "77d008cb",
   "metadata": {},
   "outputs": [
    {
     "data": {
      "text/html": [
       "<div>\n",
       "<style scoped>\n",
       "    .dataframe tbody tr th:only-of-type {\n",
       "        vertical-align: middle;\n",
       "    }\n",
       "\n",
       "    .dataframe tbody tr th {\n",
       "        vertical-align: top;\n",
       "    }\n",
       "\n",
       "    .dataframe thead th {\n",
       "        text-align: right;\n",
       "    }\n",
       "</style>\n",
       "<table border=\"1\" class=\"dataframe\">\n",
       "  <thead>\n",
       "    <tr style=\"text-align: right;\">\n",
       "      <th></th>\n",
       "      <th>City</th>\n",
       "      <th>Country</th>\n",
       "      <th>Max Temp</th>\n",
       "      <th>Lat</th>\n",
       "      <th>Lng</th>\n",
       "      <th>Hotel Name</th>\n",
       "    </tr>\n",
       "  </thead>\n",
       "  <tbody>\n",
       "    <tr>\n",
       "      <th>0</th>\n",
       "      <td>Hasaki</td>\n",
       "      <td>JP</td>\n",
       "      <td>77.40</td>\n",
       "      <td>35.7333</td>\n",
       "      <td>140.8333</td>\n",
       "      <td></td>\n",
       "    </tr>\n",
       "    <tr>\n",
       "      <th>2</th>\n",
       "      <td>Hirara</td>\n",
       "      <td>JP</td>\n",
       "      <td>84.85</td>\n",
       "      <td>24.8000</td>\n",
       "      <td>125.2833</td>\n",
       "      <td></td>\n",
       "    </tr>\n",
       "    <tr>\n",
       "      <th>8</th>\n",
       "      <td>Saint Anthony</td>\n",
       "      <td>US</td>\n",
       "      <td>82.02</td>\n",
       "      <td>45.0205</td>\n",
       "      <td>-93.2180</td>\n",
       "      <td></td>\n",
       "    </tr>\n",
       "    <tr>\n",
       "      <th>9</th>\n",
       "      <td>Albany</td>\n",
       "      <td>US</td>\n",
       "      <td>89.78</td>\n",
       "      <td>42.6001</td>\n",
       "      <td>-73.9662</td>\n",
       "      <td></td>\n",
       "    </tr>\n",
       "    <tr>\n",
       "      <th>10</th>\n",
       "      <td>Kapaa</td>\n",
       "      <td>US</td>\n",
       "      <td>75.52</td>\n",
       "      <td>22.0752</td>\n",
       "      <td>-159.3190</td>\n",
       "      <td></td>\n",
       "    </tr>\n",
       "    <tr>\n",
       "      <th>13</th>\n",
       "      <td>Amalapuram</td>\n",
       "      <td>IN</td>\n",
       "      <td>82.11</td>\n",
       "      <td>16.5833</td>\n",
       "      <td>82.0167</td>\n",
       "      <td></td>\n",
       "    </tr>\n",
       "    <tr>\n",
       "      <th>14</th>\n",
       "      <td>Cayenne</td>\n",
       "      <td>GF</td>\n",
       "      <td>87.84</td>\n",
       "      <td>4.9333</td>\n",
       "      <td>-52.3333</td>\n",
       "      <td></td>\n",
       "    </tr>\n",
       "    <tr>\n",
       "      <th>15</th>\n",
       "      <td>Berbera</td>\n",
       "      <td>SO</td>\n",
       "      <td>87.49</td>\n",
       "      <td>10.4396</td>\n",
       "      <td>45.0143</td>\n",
       "      <td></td>\n",
       "    </tr>\n",
       "    <tr>\n",
       "      <th>16</th>\n",
       "      <td>La Peca</td>\n",
       "      <td>PE</td>\n",
       "      <td>75.13</td>\n",
       "      <td>-5.6111</td>\n",
       "      <td>-78.4350</td>\n",
       "      <td></td>\n",
       "    </tr>\n",
       "    <tr>\n",
       "      <th>17</th>\n",
       "      <td>Buala</td>\n",
       "      <td>SB</td>\n",
       "      <td>78.67</td>\n",
       "      <td>-8.1450</td>\n",
       "      <td>159.5921</td>\n",
       "      <td></td>\n",
       "    </tr>\n",
       "  </tbody>\n",
       "</table>\n",
       "</div>"
      ],
      "text/plain": [
       "             City Country  Max Temp      Lat       Lng Hotel Name\n",
       "0          Hasaki      JP     77.40  35.7333  140.8333           \n",
       "2          Hirara      JP     84.85  24.8000  125.2833           \n",
       "8   Saint Anthony      US     82.02  45.0205  -93.2180           \n",
       "9          Albany      US     89.78  42.6001  -73.9662           \n",
       "10          Kapaa      US     75.52  22.0752 -159.3190           \n",
       "13     Amalapuram      IN     82.11  16.5833   82.0167           \n",
       "14        Cayenne      GF     87.84   4.9333  -52.3333           \n",
       "15        Berbera      SO     87.49  10.4396   45.0143           \n",
       "16        La Peca      PE     75.13  -5.6111  -78.4350           \n",
       "17          Buala      SB     78.67  -8.1450  159.5921           "
      ]
     },
     "execution_count": 70,
     "metadata": {},
     "output_type": "execute_result"
    }
   ],
   "source": [
    "# Create DataFrame called hotel_df to store hotel names along with city, country, max temp, and coordinates.\n",
    "hotel_df = preferred_cities_df[[\"City\", \"Country\", \"Max Temp\", \"Lat\", \"Lng\"]].copy()\n",
    "hotel_df[\"Hotel Name\"] = \"\"\n",
    "hotel_df.head(10)"
   ]
  },
  {
   "cell_type": "code",
   "execution_count": 71,
   "id": "e1b81561",
   "metadata": {},
   "outputs": [],
   "source": [
    "# Set parameters to search for a hotel.\n",
    "params = {\n",
    "    \"radius\": 5000,\n",
    "    \"type\": \"lodging\",\n",
    "    \"key\": g_key\n",
    "}"
   ]
  },
  {
   "cell_type": "code",
   "execution_count": 74,
   "id": "3d91ae08",
   "metadata": {},
   "outputs": [
    {
     "name": "stdout",
     "output_type": "stream",
     "text": [
      "Hotel not found...skipping \n",
      "Hotel not found...skipping \n",
      "Hotel not found...skipping \n",
      "Hotel not found...skipping \n",
      "Hotel not found...skipping \n",
      "Hotel not found...skipping \n",
      "Hotel not found...skipping \n",
      "Hotel not found...skipping \n",
      "Hotel not found...skipping \n",
      "Hotel not found...skipping \n",
      "Hotel not found...skipping \n",
      "Hotel not found...skipping \n",
      "Hotel not found...skipping \n",
      "Hotel not found...skipping \n"
     ]
    }
   ],
   "source": [
    "# Iterate through the DataFrame.\n",
    "for index, row in hotel_df.iterrows():\n",
    "    # Get the latitude and longitude.\n",
    "    lat = row[\"Lat\"]\n",
    "    lng = row[\"Lng\"]\n",
    "\n",
    "    # Add the latitude and longitude to location key for the params dictionary.\n",
    "    params[\"location\"] = f\"{lat},{lng}\"\n",
    "\n",
    "    # Use the search term: \"lodging\" and our latitude and longitude.\n",
    "    base_url = \"https://maps.googleapis.com/maps/api/place/nearbysearch/json\"\n",
    "    # Make request and get the JSON data from the search.\n",
    "    hotels = requests.get(base_url, params=params).json()\n",
    "    try:\n",
    "        # Grab the first hotel from the results and store the name.\n",
    "        hotel_df.loc[index, \"Hotel Name\"] = hotels[\"results\"][0][\"name\"]\n",
    "    except (IndexError):\n",
    "        print(\"Hotel not found...skipping \")"
   ]
  },
  {
   "cell_type": "code",
   "execution_count": 76,
   "id": "038766ad",
   "metadata": {},
   "outputs": [
    {
     "data": {
      "application/vnd.jupyter.widget-view+json": {
       "model_id": "4a96fc7bfc45445d8095d9b912d3bee7",
       "version_major": 2,
       "version_minor": 0
      },
      "text/plain": [
       "Figure(layout=FigureLayout(height='420px'))"
      ]
     },
     "metadata": {},
     "output_type": "display_data"
    }
   ],
   "source": [
    "# Add a heatmap of temperature for the vacation spots and marker for each city.\n",
    "locations = hotel_df[[\"Lat\", \"Lng\"]]\n",
    "max_temp = hotel_df[\"Max Temp\"]\n",
    "fig = gmaps.figure(center=(30.0, 31.0), zoom_level=1.5)\n",
    "heat_layer = gmaps.heatmap_layer(locations, weights=max_temp,\n",
    "             dissipating=False, max_intensity=300, point_radius=4)\n",
    "marker_layer = gmaps.marker_layer(locations)\n",
    "fig.add_layer(heat_layer)\n",
    "fig.add_layer(marker_layer)\n",
    "# Call the figure to plot the data.\n",
    "fig"
   ]
  },
  {
   "cell_type": "code",
   "execution_count": 83,
   "id": "cb67ea81",
   "metadata": {},
   "outputs": [],
   "source": [
    "info_box_template = \"\"\"\n",
    "<dl>\n",
    "<dt>Hotel Name</dt><dd>{Hotel Name}</dd>\n",
    "<dt>City</dt><dd>{City}</dd>\n",
    "<dt>Country</dt><dd>{Country}</dd>\n",
    "<dt>Max Temp</dt><dd>{Max Temp} °F</dd>\n",
    "</dl>\n",
    "\"\"\""
   ]
  },
  {
   "cell_type": "code",
   "execution_count": 84,
   "id": "c2235218",
   "metadata": {},
   "outputs": [],
   "source": [
    "# Store the DataFrame Row.\n",
    "hotel_info = [info_box_template.format(**row) for index, row in hotel_df.iterrows()]"
   ]
  },
  {
   "cell_type": "code",
   "execution_count": 85,
   "id": "0560511c",
   "metadata": {},
   "outputs": [
    {
     "data": {
      "application/vnd.jupyter.widget-view+json": {
       "model_id": "9665740527fc43eb934893b01be6735a",
       "version_major": 2,
       "version_minor": 0
      },
      "text/plain": [
       "Figure(layout=FigureLayout(height='420px'))"
      ]
     },
     "metadata": {},
     "output_type": "display_data"
    }
   ],
   "source": [
    "# Add a heatmap of temperature for the vacation spots and a pop-up marker for each city.\n",
    "locations = hotel_df[[\"Lat\", \"Lng\"]]\n",
    "max_temp = hotel_df[\"Max Temp\"]\n",
    "fig = gmaps.figure(center=(30.0, 31.0), zoom_level=1.5)\n",
    "heat_layer = gmaps.heatmap_layer(locations, weights=max_temp,dissipating=False,\n",
    "             max_intensity=300, point_radius=4)\n",
    "marker_layer = gmaps.marker_layer(locations, info_box_content=hotel_info)\n",
    "fig.add_layer(heat_layer)\n",
    "fig.add_layer(marker_layer)\n",
    "\n",
    "# Call the figure to plot the data.\n",
    "fig"
   ]
  },
  {
   "cell_type": "code",
   "execution_count": null,
   "id": "5ecf1cb3",
   "metadata": {},
   "outputs": [],
   "source": []
  }
 ],
 "metadata": {
  "kernelspec": {
   "display_name": "PythonData",
   "language": "python",
   "name": "pythondata"
  },
  "language_info": {
   "codemirror_mode": {
    "name": "ipython",
    "version": 3
   },
   "file_extension": ".py",
   "mimetype": "text/x-python",
   "name": "python",
   "nbconvert_exporter": "python",
   "pygments_lexer": "ipython3",
   "version": "3.9.12"
  }
 },
 "nbformat": 4,
 "nbformat_minor": 5
}
